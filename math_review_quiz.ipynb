{
 "cells": [
  {
   "cell_type": "markdown",
   "id": "0ef87c6c-2a74-4848-ae39-259de9c4685e",
   "metadata": {},
   "source": [
    "# Quiz 1\n",
    "\n",
    "Working alone (without consulting your neighbor), answer to the best of your ability. "
   ]
  },
  {
   "cell_type": "markdown",
   "id": "6df1cc35-bdc7-4182-9757-35adee0e10ff",
   "metadata": {},
   "source": [
    "1. What is a Vector?"
   ]
  },
  {
   "cell_type": "markdown",
   "id": "303c6e1a-bf59-4eeb-b972-258dc2ad61b1",
   "metadata": {},
   "source": [
    "a mispelled name"
   ]
  },
  {
   "cell_type": "markdown",
   "id": "1cad8259-438c-4ac1-af08-a15cb8febadc",
   "metadata": {},
   "source": [
    "2. What is a Matrix?"
   ]
  },
  {
   "cell_type": "markdown",
   "id": "f22f2506-2009-43a6-943e-c91700d855f0",
   "metadata": {},
   "source": []
  },
  {
   "cell_type": "markdown",
   "id": "1905b3eb-bdd6-4c9e-bec1-221084b69e18",
   "metadata": {},
   "source": [
    "3. Given the following vectors\n",
    "$\\mathbf{x} = \\begin{pmatrix}a\\\\b\\end{pmatrix}$ and  $\\mathbf{y} = \\begin{pmatrix}c\\\\d\\end{pmatrix}$,\n",
    "what does $\\mathbf{x}\\cdot\\mathbf{y}$ equal?"
   ]
  },
  {
   "cell_type": "markdown",
   "id": "dcd778a5-03a7-4134-915b-242bcf47d09f",
   "metadata": {},
   "source": []
  },
  {
   "cell_type": "markdown",
   "id": "34cc1f25-71bf-4065-a279-1b62eb45dfc0",
   "metadata": {},
   "source": [
    "4. Given the following vector and matrix,\n",
    "$\\mathbf{x} = \\begin{pmatrix}a\\\\b\\end{pmatrix}$ and  $\\mathbf{Y} = \\begin{pmatrix}c & d \\\\ e & f\\end{pmatrix}$,\n",
    "what does $\\mathbf{Y}\\mathbf{x}$ equal?"
   ]
  },
  {
   "cell_type": "markdown",
   "id": "5603593c-15d3-4e13-a21a-3fad2552c269",
   "metadata": {},
   "source": []
  },
  {
   "cell_type": "markdown",
   "id": "14a9d7a9-03c0-4255-b3e3-00f6c78c4223",
   "metadata": {},
   "source": [
    "5. Given the following matrices,\n",
    "$\\mathbf{X} = \\begin{pmatrix}a & b \\\\ c & d\\end{pmatrix}$ and  $\\mathbf{Y} = \\begin{pmatrix}e & f \\\\ g & h\\end{pmatrix}$,\n",
    "what does $\\mathbf{X}\\mathbf{Y}$ equal?"
   ]
  },
  {
   "cell_type": "markdown",
   "id": "9791c8b5-0d5b-42a6-805e-56886103aeaf",
   "metadata": {},
   "source": []
  },
  {
   "cell_type": "markdown",
   "id": "3361f014-2440-4ce1-ad54-452df81d88f0",
   "metadata": {},
   "source": [
    "6. Given the following relationship between a matrix $\\textbf{A}$ and a vector $\\mathbf{x}$, what terminology do we use to define $\\mathbf{x}$ and the scalar $a$?\n",
    "$$ \\textbf{A}\\mathbf{x} = a\\mathbf{x}$$"
   ]
  },
  {
   "cell_type": "markdown",
   "id": "aaf460f3-1b1f-478d-a65e-c41974ab3288",
   "metadata": {},
   "source": []
  },
  {
   "cell_type": "markdown",
   "id": "241729da-75c9-4b39-8942-89ea00db5318",
   "metadata": {},
   "source": [
    "7. Write a function in Python that, when executed, prints out a message that tells me how you feel today. Next, execute the function."
   ]
  },
  {
   "cell_type": "code",
   "execution_count": null,
   "id": "d75c521a-356c-4c0d-9817-a4df7971b184",
   "metadata": {},
   "outputs": [],
   "source": []
  },
  {
   "cell_type": "markdown",
   "id": "da921e7f-b805-472d-94b7-7516b9e667fe",
   "metadata": {},
   "source": [
    "8. Now, write the same function, but where the subject of the sentence is a variable."
   ]
  },
  {
   "cell_type": "code",
   "execution_count": null,
   "id": "3c93194c-cd6d-4329-a411-6087d88ec381",
   "metadata": {},
   "outputs": [],
   "source": []
  },
  {
   "cell_type": "markdown",
   "id": "a2032932-4ecb-4e24-a315-938fa2638fac",
   "metadata": {},
   "source": [
    "9. Now write a block of code, using loops, which will print out each person in the classes name, and each way they feel. "
   ]
  },
  {
   "cell_type": "code",
   "execution_count": null,
   "id": "287a81e0-1273-47ae-809a-527dbf42707f",
   "metadata": {},
   "outputs": [],
   "source": []
  }
 ],
 "metadata": {
  "kernelspec": {
   "display_name": "Python 3 (ipykernel)",
   "language": "python",
   "name": "python3"
  },
  "language_info": {
   "codemirror_mode": {
    "name": "ipython",
    "version": 3
   },
   "file_extension": ".py",
   "mimetype": "text/x-python",
   "name": "python",
   "nbconvert_exporter": "python",
   "pygments_lexer": "ipython3",
   "version": "3.9.7"
  }
 },
 "nbformat": 4,
 "nbformat_minor": 5
}
